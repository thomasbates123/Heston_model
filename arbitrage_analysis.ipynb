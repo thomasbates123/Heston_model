{
 "cells": [
  {
   "cell_type": "markdown",
   "metadata": {},
   "source": [
    "# Options Arbitrage Analysis Using Heston Model\n",
    "\n",
    "This notebook demonstrates how to use the Heston model to detect arbitrage opportunities in options markets using data from WRDS."
   ]
  },
  {
   "cell_type": "markdown",
   "metadata": {},
   "source": [
    "## Setup and Imports"
   ]
  },
  {
   "cell_type": "code",
   "execution_count": null,
   "metadata": {},
   "outputs": [],
   "source": [
    "import pandas as pd\n",
    "import numpy as np\n",
    "import matplotlib.pyplot as plt\n",
    "from datetime import datetime\n",
    "\n",
    "from heston_model import HestonModel\n",
    "from wrds_connector import WRDSConnector, generate_sample_data\n",
    "from arbitrage_detector import ArbitrageDetector\n",
    "\n",
    "%matplotlib inline\n",
    "pd.set_option('display.max_columns', None)\n",
    "pd.set_option('display.width', None)"
   ]
  },
  {
   "cell_type": "markdown",
   "metadata": {},
   "source": [
    "## 1. Load Options Data\n",
    "\n",
    "We'll start with sample data for demonstration. To use real WRDS data, set `use_wrds=True` and ensure you have WRDS credentials configured."
   ]
  },
  {
   "cell_type": "code",
   "execution_count": null,
   "metadata": {},
   "outputs": [],
   "source": [
    "# Configuration\n",
    "ticker = 'AAPL'\n",
    "use_wrds = False  # Set to True to use WRDS data\n",
    "\n",
    "if use_wrds:\n",
    "    # Connect to WRDS\n",
    "    connector = WRDSConnector()\n",
    "    \n",
    "    # Define date range\n",
    "    start_date = '2023-01-01'\n",
    "    end_date = '2023-12-31'\n",
    "    \n",
    "    # Fetch data\n",
    "    options_df = connector.fetch_option_data(ticker, start_date, end_date)\n",
    "    stock_df = connector.fetch_underlying_price(ticker, start_date, end_date)\n",
    "    \n",
    "    connector.close()\n",
    "else:\n",
    "    # Use sample data\n",
    "    print(\"Using sample data for demonstration...\")\n",
    "    options_df, stock_df = generate_sample_data(ticker=ticker)\n",
    "\n",
    "# Get current stock price\n",
    "stock_price = stock_df['stock_price'].iloc[-1]\n",
    "\n",
    "print(f\"Stock: {ticker}\")\n",
    "print(f\"Current Price: ${stock_price:.2f}\")\n",
    "print(f\"Total Options: {len(options_df)}\")\n",
    "print(f\"Date Range: {options_df['date'].min()} to {options_df['date'].max()}\")"
   ]
  },
  {
   "cell_type": "markdown",
   "metadata": {},
   "source": [
    "## 2. Explore the Data"
   ]
  },
  {
   "cell_type": "code",
   "execution_count": null,
   "metadata": {},
   "outputs": [],
   "source": [
    "# Display sample of options data\n",
    "print(\"Sample Options Data:\")\n",
    "options_df.head(10)"
   ]
  },
  {
   "cell_type": "code",
   "execution_count": null,
   "metadata": {},
   "outputs": [],
   "source": [
    "# Summary statistics\n",
    "print(\"\\nOptions by Type:\")\n",
    "print(options_df['cp_flag'].value_counts())\n",
    "\n",
    "print(\"\\nTime to Maturity Distribution:\")\n",
    "print(options_df['T'].describe())\n",
    "\n",
    "print(\"\\nStrike Price Range:\")\n",
    "print(f\"Min: ${options_df['strike_price'].min():.2f}\")\n",
    "print(f\"Max: ${options_df['strike_price'].max():.2f}\")"
   ]
  },
  {
   "cell_type": "code",
   "execution_count": null,
   "metadata": {},
   "outputs": [],
   "source": [
    "# Visualize implied volatility smile\n",
    "latest_date = options_df['date'].max()\n",
    "latest_options = options_df[options_df['date'] == latest_date]\n",
    "\n",
    "# Select one maturity\n",
    "maturities = sorted(latest_options['T'].unique())\n",
    "if len(maturities) > 0:\n",
    "    selected_T = maturities[0]\n",
    "    subset = latest_options[latest_options['T'] == selected_T]\n",
    "    \n",
    "    calls = subset[subset['cp_flag'] == 'C']\n",
    "    puts = subset[subset['cp_flag'] == 'P']\n",
    "    \n",
    "    plt.figure(figsize=(12, 5))\n",
    "    \n",
    "    plt.subplot(1, 2, 1)\n",
    "    plt.plot(calls['strike_price'], calls['impl_volatility'], 'bo-', label='Calls')\n",
    "    plt.plot(puts['strike_price'], puts['impl_volatility'], 'ro-', label='Puts')\n",
    "    plt.axvline(stock_price, color='g', linestyle='--', label='Stock Price')\n",
    "    plt.xlabel('Strike Price')\n",
    "    plt.ylabel('Implied Volatility')\n",
    "    plt.title(f'Volatility Smile (T={selected_T:.2f} years)')\n",
    "    plt.legend()\n",
    "    plt.grid(True)\n",
    "    \n",
    "    plt.subplot(1, 2, 2)\n",
    "    plt.plot(calls['strike_price'], calls['mid_price'], 'bo-', label='Calls')\n",
    "    plt.plot(puts['strike_price'], puts['mid_price'], 'ro-', label='Puts')\n",
    "    plt.axvline(stock_price, color='g', linestyle='--', label='Stock Price')\n",
    "    plt.xlabel('Strike Price')\n",
    "    plt.ylabel('Option Price')\n",
    "    plt.title(f'Option Prices (T={selected_T:.2f} years)')\n",
    "    plt.legend()\n",
    "    plt.grid(True)\n",
    "    \n",
    "    plt.tight_layout()\n",
    "    plt.show()"
   ]
  },
  {
   "cell_type": "markdown",
   "metadata": {},
   "source": [
    "## 3. Calibrate Heston Model"
   ]
  },
  {
   "cell_type": "code",
   "execution_count": null,
   "metadata": {},
   "outputs": [],
   "source": [
    "# Select liquid options for calibration\n",
    "calibration_data = options_df[\n",
    "    (options_df['T'] > 0.08) &  # At least 1 month\n",
    "    (options_df['T'] < 0.5) &   # Less than 6 months\n",
    "    (options_df['volume'] > 10)  # Reasonable volume\n",
    "].copy()\n",
    "\n",
    "# Use calls for calibration\n",
    "calls_for_calibration = calibration_data[calibration_data['cp_flag'] == 'C'].head(20)\n",
    "\n",
    "print(f\"Calibrating with {len(calls_for_calibration)} call options...\")\n",
    "\n",
    "if len(calls_for_calibration) >= 5:\n",
    "    market_prices = calls_for_calibration['mid_price'].values\n",
    "    K_list = calls_for_calibration['strike_price'].values\n",
    "    T_list = calls_for_calibration['T'].values\n",
    "    r = 0.05  # 5% risk-free rate\n",
    "    \n",
    "    # Calibrate\n",
    "    heston_params = HestonModel.calibrate(\n",
    "        market_prices, stock_price, K_list, r, T_list, K_list, option_type='call'\n",
    "    )\n",
    "    \n",
    "    print(\"\\nCalibrated Heston Parameters:\")\n",
    "    for param, value in heston_params.items():\n",
    "        print(f\"  {param}: {value:.6f}\")\n",
    "else:\n",
    "    print(\"Insufficient data for calibration\")\n",
    "    heston_params = None"
   ]
  },
  {
   "cell_type": "code",
   "execution_count": null,
   "metadata": {},
   "outputs": [],
   "source": [
    "# Compare Heston model prices with market prices\n",
    "if heston_params is not None:\n",
    "    comparison_data = []\n",
    "    \n",
    "    for idx, row in calls_for_calibration.iterrows():\n",
    "        model = HestonModel(\n",
    "            stock_price, row['strike_price'], r, row['T'],\n",
    "            heston_params['v0'], heston_params['kappa'],\n",
    "            heston_params['theta'], heston_params['sigma'], heston_params['rho']\n",
    "        )\n",
    "        \n",
    "        heston_price = model.call_price()\n",
    "        market_price = row['mid_price']\n",
    "        \n",
    "        comparison_data.append({\n",
    "            'strike': row['strike_price'],\n",
    "            'T': row['T'],\n",
    "            'market_price': market_price,\n",
    "            'heston_price': heston_price,\n",
    "            'error': abs(heston_price - market_price),\n",
    "            'error_pct': 100 * abs(heston_price - market_price) / market_price\n",
    "        })\n",
    "    \n",
    "    comparison_df = pd.DataFrame(comparison_data)\n",
    "    \n",
    "    print(\"\\nModel vs Market Comparison:\")\n",
    "    print(comparison_df)\n",
    "    \n",
    "    print(f\"\\nMean Absolute Error: ${comparison_df['error'].mean():.4f}\")\n",
    "    print(f\"Mean Percentage Error: {comparison_df['error_pct'].mean():.2f}%\")"
   ]
  },
  {
   "cell_type": "markdown",
   "metadata": {},
   "source": [
    "## 4. Detect Arbitrage Opportunities"
   ]
  },
  {
   "cell_type": "code",
   "execution_count": null,
   "metadata": {},
   "outputs": [],
   "source": [
    "# Use most recent date for arbitrage detection\n",
    "latest_date = options_df['date'].max()\n",
    "latest_options = options_df[options_df['date'] == latest_date].copy()\n",
    "\n",
    "print(f\"Analyzing options as of {latest_date}\")\n",
    "print(f\"Options analyzed: {len(latest_options)}\")\n",
    "\n",
    "# Initialize detector\n",
    "detector = ArbitrageDetector(\n",
    "    latest_options,\n",
    "    stock_price,\n",
    "    risk_free_rate=0.05,\n",
    "    tolerance=0.01  # $0.01 minimum profit\n",
    ")\n",
    "\n",
    "# Detect all arbitrage opportunities\n",
    "arbitrage_results = detector.detect_all_arbitrage()"
   ]
  },
  {
   "cell_type": "markdown",
   "metadata": {},
   "source": [
    "## 5. Analyze Results"
   ]
  },
  {
   "cell_type": "code",
   "execution_count": null,
   "metadata": {},
   "outputs": [],
   "source": [
    "# Put-Call Parity Violations\n",
    "pcp_violations = arbitrage_results['put_call_parity']\n",
    "\n",
    "if len(pcp_violations) > 0:\n",
    "    print(\"PUT-CALL PARITY VIOLATIONS\")\n",
    "    print(\"=\"*70)\n",
    "    print(pcp_violations)\n",
    "    \n",
    "    # Visualize\n",
    "    plt.figure(figsize=(10, 6))\n",
    "    plt.bar(range(len(pcp_violations)), pcp_violations['expected_profit'])\n",
    "    plt.xlabel('Opportunity Index')\n",
    "    plt.ylabel('Expected Profit ($)')\n",
    "    plt.title('Put-Call Parity Arbitrage Opportunities')\n",
    "    plt.grid(True, alpha=0.3)\n",
    "    plt.show()\n",
    "else:\n",
    "    print(\"No put-call parity violations detected.\")"
   ]
  },
  {
   "cell_type": "code",
   "execution_count": null,
   "metadata": {},
   "outputs": [],
   "source": [
    "# Butterfly Spread Opportunities\n",
    "butterfly_arb = arbitrage_results['butterfly']\n",
    "\n",
    "if len(butterfly_arb) > 0:\n",
    "    print(\"\\nBUTTERFLY SPREAD ARBITRAGE\")\n",
    "    print(\"=\"*70)\n",
    "    print(butterfly_arb)\n",
    "else:\n",
    "    print(\"\\nNo butterfly spread arbitrage detected.\")"
   ]
  },
  {
   "cell_type": "code",
   "execution_count": null,
   "metadata": {},
   "outputs": [],
   "source": [
    "# Calendar Spread Opportunities\n",
    "calendar_arb = arbitrage_results['calendar']\n",
    "\n",
    "if len(calendar_arb) > 0:\n",
    "    print(\"\\nCALENDAR SPREAD ARBITRAGE\")\n",
    "    print(\"=\"*70)\n",
    "    print(calendar_arb)\n",
    "else:\n",
    "    print(\"\\nNo calendar spread arbitrage detected.\")"
   ]
  },
  {
   "cell_type": "code",
   "execution_count": null,
   "metadata": {},
   "outputs": [],
   "source": [
    "# Box Spread Opportunities\n",
    "box_arb = arbitrage_results['box_spread']\n",
    "\n",
    "if len(box_arb) > 0:\n",
    "    print(\"\\nBOX SPREAD ARBITRAGE\")\n",
    "    print(\"=\"*70)\n",
    "    print(box_arb)\n",
    "else:\n",
    "    print(\"\\nNo box spread arbitrage detected.\")"
   ]
  },
  {
   "cell_type": "code",
   "execution_count": null,
   "metadata": {},
   "outputs": [],
   "source": [
    "# Summary visualization\n",
    "arb_counts = {k: len(v) for k, v in arbitrage_results.items()}\n",
    "total_profits = {k: v['expected_profit'].sum() if len(v) > 0 and 'expected_profit' in v.columns else 0 \n",
    "                 for k, v in arbitrage_results.items()}\n",
    "\n",
    "fig, axes = plt.subplots(1, 2, figsize=(14, 5))\n",
    "\n",
    "# Count of opportunities\n",
    "axes[0].bar(range(len(arb_counts)), list(arb_counts.values()))\n",
    "axes[0].set_xticks(range(len(arb_counts)))\n",
    "axes[0].set_xticklabels([k.replace('_', ' ').title() for k in arb_counts.keys()], rotation=45, ha='right')\n",
    "axes[0].set_ylabel('Number of Opportunities')\n",
    "axes[0].set_title('Arbitrage Opportunities by Type')\n",
    "axes[0].grid(True, alpha=0.3)\n",
    "\n",
    "# Total profits\n",
    "axes[1].bar(range(len(total_profits)), list(total_profits.values()))\n",
    "axes[1].set_xticks(range(len(total_profits)))\n",
    "axes[1].set_xticklabels([k.replace('_', ' ').title() for k in total_profits.keys()], rotation=45, ha='right')\n",
    "axes[1].set_ylabel('Total Expected Profit ($)')\n",
    "axes[1].set_title('Total Expected Profit by Type')\n",
    "axes[1].grid(True, alpha=0.3)\n",
    "\n",
    "plt.tight_layout()\n",
    "plt.show()\n",
    "\n",
    "print(f\"\\nTotal Arbitrage Opportunities: {sum(arb_counts.values())}\")\n",
    "print(f\"Total Expected Profit: ${sum(total_profits.values()):.2f}\")"
   ]
  },
  {
   "cell_type": "markdown",
   "metadata": {},
   "source": [
    "## 6. Export Results"
   ]
  },
  {
   "cell_type": "code",
   "execution_count": null,
   "metadata": {},
   "outputs": [],
   "source": [
    "# Save results to CSV files\n",
    "timestamp = datetime.now().strftime('%Y%m%d_%H%M%S')\n",
    "\n",
    "for arb_type, df in arbitrage_results.items():\n",
    "    if len(df) > 0:\n",
    "        filename = f\"arbitrage_{arb_type}_{ticker}_{timestamp}.csv\"\n",
    "        df.to_csv(filename, index=False)\n",
    "        print(f\"Saved {arb_type} results to {filename}\")"
   ]
  },
  {
   "cell_type": "markdown",
   "metadata": {},
   "source": [
    "## Conclusion\n",
    "\n",
    "This notebook demonstrated:\n",
    "1. Loading options data from WRDS (or sample data)\n",
    "2. Calibrating the Heston model to market prices\n",
    "3. Detecting various types of arbitrage opportunities\n",
    "4. Analyzing and visualizing the results\n",
    "\n",
    "### Next Steps:\n",
    "- Connect to real WRDS data with your credentials\n",
    "- Adjust the tolerance parameter based on your transaction costs\n",
    "- Implement backtesting to validate strategies\n",
    "- Add more sophisticated arbitrage detection methods\n",
    "- Consider market microstructure effects"
   ]
  }
 ],
 "metadata": {
  "kernelspec": {
   "display_name": "Python 3",
   "language": "python",
   "name": "python3"
  },
  "language_info": {
   "codemirror_mode": {
    "name": "ipython",
    "version": 3
   },
   "file_extension": ".py",
   "mimetype": "text/x-python",
   "name": "python",
   "nbconvert_exporter": "python",
   "pygments_lexer": "ipython3",
   "version": "3.8.0"
  }
 },
 "nbformat": 4,
 "nbformat_minor": 4
}
